{
 "metadata": {
  "language": "Julia",
  "name": "",
  "signature": "sha256:e14360ad2168656b9f5ee664d068f68dad163c6cbd85bbb7714659ee9b3bf7ff"
 },
 "nbformat": 3,
 "nbformat_minor": 0,
 "worksheets": [
  {
   "cells": [
    {
     "cell_type": "markdown",
     "metadata": {},
     "source": [
      "The purpose of this notebook is to investigate the results of applying the SVD to a data matrix of time signals, and how the results vary with:\n",
      "\n",
      "- The presence of noise\n",
      "- Initial phase of each time signal\n",
      "- Period of each time signal\n",
      "- Length of each time signal (the rest of the data being 0-padded)"
     ]
    },
    {
     "cell_type": "code",
     "collapsed": false,
     "input": [
      "using Gadfly\n",
      "using Interact"
     ],
     "language": "python",
     "metadata": {},
     "outputs": []
    },
    {
     "cell_type": "code",
     "collapsed": false,
     "input": [
      "#Plot a given left and right singular vector and also its position in the spectrum of singular values\n",
      "function plotsvd(S::Base.LinAlg.SVD, i::Int)\n",
      "    m = size(S[:U], 1) #Reconstruct dimensions of matrix that was SVDed\n",
      "    n = size(S[:V], 2)\n",
      "    hstack(\n",
      "        #Left singular vector\n",
      "        plot(x=1:nt, y=sub(S[:U],:,i), Geom.line,\n",
      "            Theme(default_color=Color.RGB(1-i/m, 0, 0)),\n",
      "            Guide.xlabel(\"Time\"), Guide.ylabel(\"\"),\n",
      "            Guide.title(\"U[$i]\")),\n",
      "    \n",
      "        #Singular values\n",
      "        plot(x=1:min(nt,nd), y=S[:S], Geom.point, Geom.line, \n",
      "            xintercept = [i], Geom.vline,\n",
      "            Theme(default_color=color(\"black\")),\n",
      "            Guide.xlabel(\"Rank\"), Guide.ylabel(\"\"),\n",
      "            Guide.title(\"\u03c3[$i] = $(S[:S][i])\")),\n",
      "    \n",
      "        #Right singular vector\n",
      "        plot(x=1:nd, y=sub(S[:V],:,i), Geom.bar,\n",
      "        Theme(default_color=Color.RGB(1-i/n, 0, 0)),\n",
      "            Guide.xlabel(\"Data id\"), Guide.ylabel(\"\"),\n",
      "            Guide.title(\"V[$i]\")),\n",
      "    )\n",
      "end"
     ],
     "language": "python",
     "metadata": {},
     "outputs": []
    },
    {
     "cell_type": "code",
     "collapsed": false,
     "input": [
      "#Generate data\n",
      "\n",
      "nt = 100 #Length of time series\n",
      "nd = 10  #Number of signals\n",
      "data = zeros(nt, nd)\n",
      "randomphases = false\n",
      "randomperiods = false\n",
      "randomlengths = false\n",
      "noise = false\n",
      "for i=1:nd\n",
      "    \u03c4 = randomperiods ? rand(1:nt) : nt/nd\n",
      "    \u03d5 = randomphases ? rand()*2\u03c0 : 0.0\n",
      "    mylength = randomlengths ? rand(1:nt) : nt\n",
      "    for t=1:nt\n",
      "        data[t, i] = t>mylength ? 0.0 : sin((t+\u03d5)/\u03c4)* (noise ? (1.0+0.1rand()) : 1.0)\n",
      "    end\n",
      "end\n",
      "\n",
      "plot(Guide.xlabel(\"Time\"), Guide.ylabel(\"\"), Guide.title(\"Raw data\"), \n",
      "     [layer(x=1:nt, y=sub(data,:,i), Geom.line,\n",
      "    Theme(default_color=Color.RGB(1-i/nd, 0, 0))) for i in 1:nd]...)"
     ],
     "language": "python",
     "metadata": {},
     "outputs": []
    },
    {
     "cell_type": "code",
     "collapsed": false,
     "input": [
      "#Actually do the SVD\n",
      "S = svdfact(data);"
     ],
     "language": "python",
     "metadata": {},
     "outputs": []
    },
    {
     "cell_type": "code",
     "collapsed": false,
     "input": [
      "set_default_plot_size(24cm, 8cm)\n",
      "@manipulate for i=1:min(nt,nd) plotsvd(S, i) end"
     ],
     "language": "python",
     "metadata": {},
     "outputs": []
    }
   ],
   "metadata": {}
  }
 ]
}