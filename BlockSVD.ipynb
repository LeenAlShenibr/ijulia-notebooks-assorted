{
 "metadata": {
  "kernelspec": {
   "codemirror_mode": {
    "name": "ipython",
    "version": 2
   },
   "display_name": "IPython (Python 2)",
   "language": "python",
   "name": "python2"
  },
  "language": "Julia",
  "name": "",
  "signature": "sha256:3164dce3464ea1e7f7bedfd53aca4d0b8d133a5e9eba4e625f46748fa498e680"
 },
 "nbformat": 3,
 "nbformat_minor": 0,
 "worksheets": [
  {
   "cells": [
    {
     "cell_type": "markdown",
     "metadata": {},
     "source": [
      "This notebook contains an implementation of the block SVD algorithm described in [LAWN 283](http://www.netlib.org/lapack/lawnspdf/lawn283.pdf)"
     ]
    },
    {
     "cell_type": "heading",
     "level": 2,
     "metadata": {},
     "source": [
      "Block and Unblock Arrays"
     ]
    },
    {
     "cell_type": "code",
     "collapsed": false,
     "input": [
      "function block(A,s1=5,s2=5)  \n",
      "    m, n=size(A)\n",
      "    mi=[i:min(i+s1-1,m) for i=1:s1:m]\n",
      "    ni=[j:min(j+s2-1,n) for j=1:s2:n]\n",
      "    [A[i,j] for i in mi, j in ni]\n",
      "end\n",
      "\n",
      "unblock(A)=hvcat(tuple([size(A,2) for i=1:size(A,1)]...), A'...) \n",
      "\n",
      "# Key BLAS3 block operator\n",
      "# A few block apply Q's\n",
      "import Base.LinAlg: QRPackedQ, Ac_mul_B\n",
      "import Base.*\n",
      "Ac_mul_B(Q::QRPackedQ,B)=hcat([block(Q'*unblock(B[:,j])) for j in 1:size(B,2)]...)        \n",
      "*{T<:Matrix}(A::Array{T},Q::QRPackedQ)=vcat([block(unblock(A[i,:])*Q) for i in 1:size(A,1)]...)   \n",
      "                                        \n",
      "# A few block qrQ's\n",
      "qrQ{T<:Number}(A::Array{T})=qrfact(A)[:Q]\n",
      "qrQ{T<:Matrix}(A::Array{T})=qrQ(unblock(A))  \n",
      "qrQc{T<:Matrix}(A::Array{T})=qrQ(unblock(A)')\n",
      "                                 \n",
      "spyt{T<:Number}(A::Array{T})=spy(A, precision=sqrt(eps(T)), alpha=0.8)                                    \n",
      "spy{T<:Matrix}(A::Array{T})=spy(unblock(A), precision=sqrt(eps()), alpha=0.7)  # Threshold for convenience\n",
      "\n",
      "#Convenience drawing functions\n",
      "using PyPlot\n",
      "using PyCall\n",
      "@pyimport matplotlib.patches as patches\n",
      "\n",
      "rect_red(x0, y0, dx, dy)=gca()[:add_patch](patches.Rectangle((x0-1.5,y0-1.5),dx,dy,linewidth=5,facecolor=\"none\",edgecolor=\"red\"))\n",
      "rect_blue(x0, y0, dx, dy)=gca()[:add_patch](patches.Rectangle((x0-1.5,y0-1.5),dx,dy,linewidth=3,facecolor=\"none\",edgecolor=\"blue\"))\n",
      "rect_gray(x0, y0, dx, dy)=gca()[:add_patch](patches.Rectangle((x0-1.5,y0-1.5),dx,dy,linewidth=1,facecolor=\"none\",edgecolor=\"#aaaaaa\"))\n",
      "rect_red(yr, xr)=rect_red(xr.start,yr.start,xr.len,yr.len)\n",
      "rect_blue(yr, xr)=rect_blue(xr.start,yr.start,xr.len,yr.len)\n",
      "rect_gray(yr, xr)=rect_gray(xr.start,yr.start,xr.len,yr.len)"
     ],
     "language": "python",
     "metadata": {},
     "outputs": [
      {
       "output_type": "stream",
       "stream": "stderr",
       "text": [
        "Warning: New definition \n",
        "    Ac_mul_B(QRPackedQ{T},Any) at In[1]:14\n",
        "is ambiguous with: \n",
        "    Ac_mul_B(AbstractArray{T,2},Triangular{T,S<:AbstractArray{T,2},UpLo,IsUnit}) at linalg/triangular.jl:211.\n",
        "To fix, define \n",
        "    Ac_mul_B(QRPackedQ{T},Triangular{T,S<:AbstractArray{T,2},UpLo,IsUnit})\n",
        "before the new definition.\n",
        "INFO: Loading help data...\n",
        "Warning: using PyPlot.spy in module Main conflicts with an existing identifier.\n"
       ]
      },
      {
       "metadata": {},
       "output_type": "pyout",
       "prompt_number": 1,
       "text": [
        "rect_gray (generic function with 2 methods)"
       ]
      }
     ],
     "prompt_number": 1
    },
    {
     "cell_type": "code",
     "collapsed": false,
     "input": [
      "N=15\n",
      "s=5; #block size\n",
      "A=block(randn(N,N));\n",
      "Q=qrQ(A[1,1])\n",
      "A[1,:]=Q'*A[1,:]\n",
      "\n",
      "spy(A)\n",
      "rect_red(1:s,1:s)  #QR from this block\n",
      "rect_blue(1:s,1:N) #QR applied to this block"
     ],
     "language": "python",
     "metadata": {},
     "outputs": [
      {
       "ename": "LoadError",
       "evalue": "DimensionMismatch(\"\")\nwhile loading In[2], in expression starting on line 5",
       "output_type": "pyerr",
       "traceback": [
        "DimensionMismatch(\"\")\nwhile loading In[2], in expression starting on line 5",
        "",
        " in * at linalg/factorization.jl:285",
        " in Ac_mul_B at operators.jl:139"
       ]
      }
     ],
     "prompt_number": 2
    },
    {
     "cell_type": "code",
     "collapsed": false,
     "input": [
      "for j=2:3\n",
      "    Q=qrQ(A[[1,j],1])        # There is a special QR for a \"domino\"=[\u25e5;\u25fc]\n",
      "    A[[1,j],:]=Q'*A[[1,j],:] # Q' acts like a square matrix even though Q was \"thin\" \n",
      "    rect_red(1,(j-1)*s+1,s,s)#QR from this block\n",
      "end \n",
      "spy(A)"
     ],
     "language": "python",
     "metadata": {},
     "outputs": [
      {
       "ename": "LoadError",
       "evalue": "DimensionMismatch(\"\")\nwhile loading In[3], in expression starting on line 1",
       "output_type": "pyerr",
       "traceback": [
        "DimensionMismatch(\"\")\nwhile loading In[3], in expression starting on line 1",
        "",
        " in * at linalg/factorization.jl:285",
        " in Ac_mul_B at operators.jl:139",
        " in anonymous at no file:3"
       ]
      }
     ],
     "prompt_number": 3
    },
    {
     "cell_type": "code",
     "collapsed": false,
     "input": [
      "#Now do this from the right\n",
      "Q=qrfact(A[1,2]')[:Q]  # We really need an LQ\n",
      "A[:,2]*=Q\n",
      "spy(A)\n",
      "rect_red(s+x1:N) #QR applied to this block"
     ],
     "language": "python",
     "metadata": {},
     "outputs": [
      {
       "ename": "LoadError",
       "evalue": "`A_mul_B!` has no method matching A_mul_B!(::Array{Any,1}, ::QRCompactWYQ{Any})\nwhile loading In[4], in expression starting on line 3",
       "output_type": "pyerr",
       "traceback": [
        "`A_mul_B!` has no method matching A_mul_B!(::Array{Any,1}, ::QRCompactWYQ{Any})\nwhile loading In[4], in expression starting on line 3",
        "",
        " in * at linalg/factorization.jl:346"
       ]
      }
     ],
     "prompt_number": 4
    },
    {
     "cell_type": "code",
     "collapsed": false,
     "input": [
      "for j=3:3\n",
      "    Q=qrQ(unblock(A[1,[2,j]])') # This is a special LQ for a \"domino\"=[\u25e5;\u25fc]'                       \n",
      "    A[:,[2,j]]*=Q\n",
      "    rect_red((j-1)*s+1,1,s,s)#QR from this block\n",
      "end\n",
      "spy(A)"
     ],
     "language": "python",
     "metadata": {},
     "outputs": [
      {
       "ename": "LoadError",
       "evalue": "`A_mul_B!` has no method matching A_mul_B!(::Array{Any,2}, ::QRCompactWYQ{Any})\nwhile loading In[5], in expression starting on line 1",
       "output_type": "pyerr",
       "traceback": [
        "`A_mul_B!` has no method matching A_mul_B!(::Array{Any,2}, ::QRCompactWYQ{Any})\nwhile loading In[5], in expression starting on line 1",
        "",
        " in * at linalg/factorization.jl:346",
        " in anonymous at no file:3"
       ]
      }
     ],
     "prompt_number": 5
    },
    {
     "cell_type": "code",
     "collapsed": false,
     "input": [
      "function BandBidiagonal(A::Array{Array{Float64,2},2}) \n",
      "    (m,n)=size(A)\n",
      "    for i=1:n\n",
      "        Q=qrQ(A[i,i])\n",
      "        A[i,:]=Q'*A[i,:]\n",
      "        for j=(i+1):n\n",
      "          Q=qrQ(A[[i,j],i])         # QR for a \"domino\"=[\u25e5;\u25fc]\n",
      "          A[[i,j],:]=Q'*A[[i,j],:]  # Q' acts like a square matrix even though Q was \"thin\" \n",
      "        end\n",
      "        i==n && return A\n",
      "        Q=qrQ(A[i,i+1]')            # We really need an LQ\n",
      "        A[:,i+1]*=Q\n",
      "        for j=(i+2):n\n",
      "          Q=qrQc(A[i,[i+1,j]])      # LQ for a \"domino\"=[\u25e5;\u25fc]'                       \n",
      "          A[:,[i+1,j]]*=Q                       \n",
      "        end\n",
      "    end\n",
      "end\n"
     ],
     "language": "python",
     "metadata": {},
     "outputs": [
      {
       "metadata": {},
       "output_type": "pyout",
       "prompt_number": 6,
       "text": [
        "BandBidiagonal (generic function with 1 method)"
       ]
      }
     ],
     "prompt_number": 6
    },
    {
     "cell_type": "code",
     "collapsed": false,
     "input": [
      "A=block(randn(15,15))\n",
      "A_after=BandBidiagonal(A)\n",
      "spy(A_after)\n",
      "[svdvals(unblock(A))[1:5] svdvals(unblock(A_after))[1:5]]"
     ],
     "language": "python",
     "metadata": {},
     "outputs": [
      {
       "ename": "LoadError",
       "evalue": "DimensionMismatch(\"\")\nwhile loading In[7], in expression starting on line 2",
       "output_type": "pyerr",
       "traceback": [
        "DimensionMismatch(\"\")\nwhile loading In[7], in expression starting on line 2",
        "",
        " in * at linalg/factorization.jl:285",
        " in Ac_mul_B at operators.jl:139",
        " in BandBidiagonal at In[6]:5"
       ]
      }
     ],
     "prompt_number": 7
    },
    {
     "cell_type": "code",
     "collapsed": false,
     "input": [
      "A=unblock(A_after)\n",
      "Q1=qrQ(A[1,2:6]')\n",
      "A[1:6,2:6]*=Q1\n",
      "spyt(A)\n",
      "rect_red(1:1,2:6)  #QR from this block\n",
      "rect_blue(1:6,2:6) #QR applied to this block"
     ],
     "language": "python",
     "metadata": {},
     "outputs": [
      {
       "ename": "LoadError",
       "evalue": "A_after not defined\nwhile loading In[8], in expression starting on line 1",
       "output_type": "pyerr",
       "traceback": [
        "A_after not defined\nwhile loading In[8], in expression starting on line 1",
        ""
       ]
      }
     ],
     "prompt_number": 8
    },
    {
     "cell_type": "code",
     "collapsed": false,
     "input": [
      "Q2=qrQ(A[2:6,2:2])\n",
      "A[2:6,2:11]=Q2'*A[2:6,2:11]\n",
      "spyt(A)\n",
      "rect_red(2:6,2:2)  #QR from this block\n",
      "rect_blue(2:6,2:11) #QR applied to this block"
     ],
     "language": "python",
     "metadata": {},
     "outputs": [
      {
       "ename": "LoadError",
       "evalue": "BoundsError()\nwhile loading In[9], in expression starting on line 1",
       "output_type": "pyerr",
       "traceback": [
        "BoundsError()\nwhile loading In[9], in expression starting on line 1",
        "",
        " in checkbounds at abstractarray.jl:65",
        " in getindex at multidimensional.jl:49"
       ]
      }
     ],
     "prompt_number": 9
    },
    {
     "cell_type": "code",
     "collapsed": false,
     "input": [
      "Q3=qrQ(A[2,7:11]')#Clear the fill-in from the previous block\n",
      "A[2:11,7:11]*=Q3\n",
      "spyt(A)\n",
      "rect_red(2:2,7:11)  #QR from this block\n",
      "rect_blue(2:11,7:11) #QR applied to this block"
     ],
     "language": "python",
     "metadata": {},
     "outputs": [
      {
       "ename": "LoadError",
       "evalue": "BoundsError()\nwhile loading In[10], in expression starting on line 1",
       "output_type": "pyerr",
       "traceback": [
        "BoundsError()\nwhile loading In[10], in expression starting on line 1",
        "",
        " in checkbounds at abstractarray.jl:65",
        " in getindex at multidimensional.jl:49"
       ]
      }
     ],
     "prompt_number": 10
    },
    {
     "cell_type": "code",
     "collapsed": false,
     "input": [
      "A=block(randn(25,25),5,5);\n",
      "A=BandBidiagonal(A);\n",
      "s=size(A[1,1],1) #Square block size\n",
      "n=size(A,1)      #Number of blocks\n",
      "A=unblock(A)\n",
      "i=1\n",
      "Q=qrQ(A[i,i+(1:s)]') #odd\n",
      "A[i+(0:s),i+(1:s)]*=Q\n",
      "rect_red(i:i,i+(1:s))  #QR from this block\n",
      "rect_blue(i+(0:s),i+(1:s)) #QR applied to this block\n",
      "for i=1:s:((n-2)*s)\n",
      "    Q=qrQ(A[i+(1:s),i+1:i+1]) #even\n",
      "    A[i+(1:s),i+(1:2s)]=Q*A[i+(1:s),i+(1:2s)]\n",
      "    rect_red(i+(1:s),i+1:i+1)  #QR from this block\n",
      "    rect_blue(i+(1:s),i+(1:2s)) #QR applied to this block\n",
      "    Q=qrQ(A[i+1,i+s+(1:s)]')  #odd\n",
      "    A[i+(1:2s),i+s+(1:s)]*=Q\n",
      "    rect_red(i+1:i+1,i+s+(1:s))  #QR from this block\n",
      "    rect_blue(i+(1:2s),i+s+(1:s)) #QR applied to this block\n",
      "end\n",
      "i=(n-2)*s+1\n",
      "Q=qrQ(A[i+(1:s),i+1:i+1]) #even\n",
      "A[i+(1:s),i+1:end]=Q*A[i+(1:s),i+1:end]\n",
      "rect_red(i+(1:s),i+1:i+1)  #QR from this block\n",
      "rect_blue(i+(1:s),i+1:(n*s)) #QR applied to this block\n",
      "Q=qrQ(A[i+1,i+s+1:end]')  #odd\n",
      "A[i+1:end,i+s+1:end]*=Q\n",
      "rect_red(i+1:i+1,i+s+1:(n*s))  #QR from this block\n",
      "rect_blue(i+1:(n*s),i+s+1:(n*s)) #QR applied to this block\n",
      "i=(n-1)*s+1\n",
      "Q=qrQ(A[i+1:end,i+1:i+1]) #even\n",
      "A[i+1:end,i+1:end]=Q*A[i+1:end,i+1:end]\n",
      "rect_red(i+1:(n*s),i+1:i+1)  #QR from this block\n",
      "rect_blue(i+1:(n*s),i+1:(n*s)) #QR applied to this block\n",
      "spyt(A)"
     ],
     "language": "python",
     "metadata": {},
     "outputs": [
      {
       "ename": "LoadError",
       "evalue": "DimensionMismatch(\"\")\nwhile loading In[11], in expression starting on line 2",
       "output_type": "pyerr",
       "traceback": [
        "DimensionMismatch(\"\")\nwhile loading In[11], in expression starting on line 2",
        "",
        " in * at linalg/factorization.jl:285",
        " in Ac_mul_B at operators.jl:139",
        " in BandBidiagonal at In[6]:5"
       ]
      }
     ],
     "prompt_number": 11
    },
    {
     "cell_type": "code",
     "collapsed": false,
     "input": [
      "@pyimport matplotlib.animation as anim\n",
      "\n",
      "function block_bidiagonalize(M,s1=5,s2=5; record_video=false, video_file=\"blocksvd.mp4\")\n",
      "    if record_video\n",
      "        video = anim.FFMpegWriter(fps=6, extra_args=[\"-vcodec\", \"libx264\", \"-pix_fmt\", \"yuv420p\"])\n",
      "        video[:setup](gcf(), video_file)\n",
      "    end\n",
      "    A=BandBidiagonal(block(M,s1,s2))\n",
      "    s=size(A[1,1],1) #Square block size\n",
      "    n=size(A,1)      #Number of blocks\n",
      "    A=unblock(A)\n",
      "    for j=1:n*s-2    #bulge chasing: elimination on row j+1\n",
      "        endb=min(j+s,n*s)\n",
      "        Q=qrQ(A[j,j+1:endb]')           #xGBCW1\n",
      "        A[j:endb,j+1:endb]*=Q\n",
      "        spyt(A)\n",
      "        rect_red(j:j,j+1:endb)  #QR from this block\n",
      "        rect_blue(j:endb,j+1:endb) #QR applied to this block\n",
      "        record_video && video[:grab_frame]()\n",
      "\n",
      "        lastb=((n-floor(j/s)-1)*s)+j                 #index of last block\n",
      "        for i=j:s:lastb\n",
      "            endb, endbp1=min(i+s,n*s), min(i+2s,n*s) #index of end of block and its neighbor\n",
      "            Q=qrQ(A[i+1:endb,i+1:i+1])  #xGBCW2\n",
      "            A[i+1:endb,i+1:endbp1]=Q*A[i+1:endb,i+1:endbp1]\n",
      "            spyt(A)\n",
      "            rect_red(i+1:endb,i+1:i+1)  #QR from this block\n",
      "            rect_blue(i+1:endb,i+1:endbp1) #QR applied to this block\n",
      "            record_video && video[:grab_frame]()\n",
      "            i==lastb && break\n",
      "            Q=qrQ(A[i+1,i+s+1:endbp1]') #xGBCW3\n",
      "            A[i+1:endbp1,i+s+1:endbp1]*=Q\n",
      "            spyt(A)\n",
      "            rect_red(i+1:i+1,i+s+1:endbp1)  #QR from this block\n",
      "            rect_blue(i+1:endbp1,i+s+1:endbp1) #QR applied to this block\n",
      "            record_video && video[:grab_frame]()\n",
      "        end\n",
      "    \n",
      "        #Gray out stuff\n",
      "        clf()\n",
      "        endb=min(j+s,n*s)\n",
      "        rect_gray(j:j,j+1:endb)\n",
      "        rect_gray(j:endb,j+1:endb)\n",
      "        for i=j:s:lastb\n",
      "            endb, endbp1=min(i+s,n*s), min(i+2s,n*s)\n",
      "            rect_gray(i+1:endb,i+1:i+1)\n",
      "            rect_gray(i+1:endb,i+1:endbp1)\n",
      "            rect_gray(i+1:i+1,i+s+1:endbp1)\n",
      "            rect_gray(i+1:endbp1,i+s+1:endbp1)\n",
      "        end\n",
      "    end\n",
      "    clf()\n",
      "    spyt(A)\n",
      "    if record_video\n",
      "        video[:grab_frame]()\n",
      "        video[:finish]()\n",
      "    end\n",
      "    A\n",
      "end"
     ],
     "language": "python",
     "metadata": {},
     "outputs": [
      {
       "metadata": {},
       "output_type": "pyout",
       "prompt_number": 12,
       "text": [
        "block_bidiagonalize (generic function with 3 methods)"
       ]
      }
     ],
     "prompt_number": 12
    },
    {
     "cell_type": "code",
     "collapsed": false,
     "input": [
      "function block_svdvals(M,s1=5,s2=5)\n",
      "    A=block_bidiagonalize(M,s1,s2)\n",
      "    B=Bidiagonal(diag(A), diag(A,1), true)\n",
      "    svdvals(B)\n",
      "end\n",
      "\n",
      "[block_svdvals(M) svdvals(M)]"
     ],
     "language": "python",
     "metadata": {},
     "outputs": [
      {
       "ename": "LoadError",
       "evalue": "M not defined\nwhile loading In[13], in expression starting on line 7",
       "output_type": "pyerr",
       "traceback": [
        "M not defined\nwhile loading In[13], in expression starting on line 7",
        ""
       ]
      }
     ],
     "prompt_number": 13
    },
    {
     "cell_type": "code",
     "collapsed": false,
     "input": [
      "M=randn(25,25)\n",
      "A=block_bidiagonalize(M,5,5)\n",
      "spyt(A) #imshow(A, cmap=\"bwr\")"
     ],
     "language": "python",
     "metadata": {},
     "outputs": [
      {
       "ename": "LoadError",
       "evalue": "DimensionMismatch(\"\")\nwhile loading In[14], in expression starting on line 2",
       "output_type": "pyerr",
       "traceback": [
        "DimensionMismatch(\"\")\nwhile loading In[14], in expression starting on line 2",
        "",
        " in * at linalg/factorization.jl:285",
        " in Ac_mul_B at operators.jl:139",
        " in BandBidiagonal at In[6]:5",
        " in block_bidiagonalize at In[12]:8"
       ]
      }
     ],
     "prompt_number": 14
    },
    {
     "cell_type": "code",
     "collapsed": false,
     "input": [
      ";ls -l *.mp4\n",
      "embed_video(filename)=display(\"text/html\", string(\"\"\"<video autoplay controls><source src=\"data:video/x-m4v;base64,\"\"\",\n",
      "                            base64(open(readbytes,filename)),\"\"\"\" type=\"video/mp4\"></video>\"\"\"))\n",
      "embed_video(\"blocksvd.mp4\")"
     ],
     "language": "python",
     "metadata": {},
     "outputs": [
      {
       "ename": "LoadError",
       "evalue": "syntax: invalid identifier name \".\"\nwhile loading In[15], in expression starting on line 1",
       "output_type": "pyerr",
       "traceback": [
        "syntax: invalid identifier name \".\"\nwhile loading In[15], in expression starting on line 1",
        ""
       ]
      }
     ],
     "prompt_number": 15
    },
    {
     "cell_type": "code",
     "collapsed": false,
     "input": [],
     "language": "python",
     "metadata": {},
     "outputs": [],
     "prompt_number": 16
    },
    {
     "cell_type": "code",
     "collapsed": false,
     "input": [],
     "language": "python",
     "metadata": {},
     "outputs": []
    }
   ],
   "metadata": {}
  }
 ]
}