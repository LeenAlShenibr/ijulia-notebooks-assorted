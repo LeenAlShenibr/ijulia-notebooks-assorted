{
 "cells": [
  {
   "cell_type": "markdown",
   "metadata": {},
   "source": [
    "This notebook demonstrates audio output from Julia using the AudioIO.jl package."
   ]
  },
  {
   "cell_type": "code",
   "execution_count": null,
   "metadata": {
    "collapsed": true
   },
   "outputs": [],
   "source": [
    "using AudioIO"
   ]
  },
  {
   "cell_type": "markdown",
   "metadata": {},
   "source": [
    "Let's start by defining the concept of a musical note."
   ]
  },
  {
   "cell_type": "code",
   "execution_count": 33,
   "metadata": {
    "collapsed": false
   },
   "outputs": [
    {
     "ename": "LoadError",
     "evalue": "invalid redefinition of constant note\nwhile loading In[33], in expression starting on line 5",
     "output_type": "error",
     "traceback": [
      "invalid redefinition of constant note\nwhile loading In[33], in expression starting on line 5",
      ""
     ]
    }
   ],
   "source": [
    "using SIUnits\n",
    "typealias timeperiod{T} quantity(T,Second)\n",
    "typealias frequency {T} quantity(T,Hertz)\n",
    "\n",
    "immutable note{T<:Real}\n",
    "    pitch::frequency{T}     #has dimensions of inverse time\n",
    "    duration::timeperiod{T} #has dimensions of time\n",
    "    sustained::Bool         #Do we want the note to last the entire time period?\n",
    "end\n",
    "\n",
    "#Outer constructor\n",
    "function note{S<:Real,T<:Real}(pitch::frequency{S}, duration::timeperiod{T},\n",
    "        sustained::Bool=false)\n",
    "\n",
    "    R=promote_type(S,T)\n",
    "    note(convert(frequency{R}, pitch), convert(timeperiod{R}, duration), sustained)\n",
    "end"
   ]
  },
  {
   "cell_type": "markdown",
   "metadata": {},
   "source": [
    "Now we have the concept of a musical note. Let's define how play it.\n",
    "\n",
    "We generate (using `waveform()`) a sample from a sine wave of the given frequency and that has the appropriate duration. We then send the generated waveform to AudioIO to be played.\n",
    "\n",
    "For convenience, we define a new method `play(::Note)` that allows us to play a musical note."
   ]
  },
  {
   "cell_type": "code",
   "execution_count": 3,
   "metadata": {
    "collapsed": false
   },
   "outputs": [
    {
     "data": {
      "text/plain": [
       "waveform (generic function with 1 method)"
      ]
     },
     "execution_count": 3,
     "metadata": {},
     "output_type": "execute_result"
    }
   ],
   "source": [
    "import AudioIO.play\n",
    "import Base.sleep\n",
    "sleep{T<:Real}(time::timeperiod{T})=sleep(time/Second)\n",
    "\n",
    "function play{T<:Real}(A::note{T}; \n",
    "        samplingfreq::frequency{T}=convert(T,44100)*Hertz, shape::Function=sin)\n",
    "\n",
    "    play(waveform(A, samplingfreq=samplingfreq, shape=shape))\n",
    "    sleep(A.duration)\n",
    "end\n",
    "\n",
    "function waveform{T<:Real}(A::note{T}; \n",
    "        samplingfreq::frequency{T}=convert(T,44100)Hertz, shape::Function=sin)\n",
    "\n",
    "    timesamples=0Second:1/samplingfreq:(A.duration*(A.sustained ? 1.0 : 0.93))\n",
    "    wf = zeros(Float32, length(0Second:1/samplingfreq:A.duration))\n",
    "    for (i, t) in enumerate(timesamples)\n",
    "        wf[i] = shape(2π*A.pitch*t)\n",
    "    end\n",
    "    wf\n",
    "end"
   ]
  },
  {
   "cell_type": "code",
   "execution_count": 6,
   "metadata": {
    "collapsed": false
   },
   "outputs": [
    {
     "data": {
      "text/html": [
       "9 methods for generic function <b>play</b>:<ul><li> play(arr::<b>Array{Float32,N}</b>,args...) at <a href=\"https://github.com/ssfrr/AudioIO.jl/tree/26fd1fdf232fbe8a0115203f8c253c8cff7a0827/src/nodes.jl#L226\" target=\"_blank\">/Users/jiahao/.julia/v0.3/AudioIO/src/nodes.jl:226</a><li> play<i>{T<:FloatingPoint}</i>(arr::<b>Array{T<:FloatingPoint,N}</b>,args...) at <a href=\"https://github.com/ssfrr/AudioIO.jl/tree/26fd1fdf232fbe8a0115203f8c253c8cff7a0827/src/nodes.jl#L232\" target=\"_blank\">/Users/jiahao/.julia/v0.3/AudioIO/src/nodes.jl:232</a><li> play<i>{T<:Signed}</i>(arr::<b>Array{T<:Signed,N}</b>,args...) at <a href=\"https://github.com/ssfrr/AudioIO.jl/tree/26fd1fdf232fbe8a0115203f8c253c8cff7a0827/src/nodes.jl#L241\" target=\"_blank\">/Users/jiahao/.julia/v0.3/AudioIO/src/nodes.jl:241</a><li> play<i>{T<:Unsigned}</i>(arr::<b>Array{T<:Unsigned,N}</b>,args...) at <a href=\"https://github.com/ssfrr/AudioIO.jl/tree/26fd1fdf232fbe8a0115203f8c253c8cff7a0827/src/nodes.jl#L246\" target=\"_blank\">/Users/jiahao/.julia/v0.3/AudioIO/src/nodes.jl:246</a><li> play(filename::<b>String</b>,args...) at <a href=\"https://github.com/ssfrr/AudioIO.jl/tree/26fd1fdf232fbe8a0115203f8c253c8cff7a0827/src/sndfile.jl#L208\" target=\"_blank\">/Users/jiahao/.julia/v0.3/AudioIO/src/sndfile.jl:208</a><li> play(file::<b>AudioFile</b>,args...) at <a href=\"https://github.com/ssfrr/AudioIO.jl/tree/26fd1fdf232fbe8a0115203f8c253c8cff7a0827/src/sndfile.jl#L213\" target=\"_blank\">/Users/jiahao/.julia/v0.3/AudioIO/src/sndfile.jl:213</a><li> play(node::<b>AudioNode{T<:AudioRenderer}</b>,stream::<b>AudioStream</b>) at <a href=\"https://github.com/ssfrr/AudioIO.jl/tree/26fd1fdf232fbe8a0115203f8c253c8cff7a0827/src/AudioIO.jl#L70\" target=\"_blank\">/Users/jiahao/.julia/v0.3/AudioIO/src/AudioIO.jl:70</a><li> play(node::<b>AudioNode{T<:AudioRenderer}</b>) at <a href=\"https://github.com/ssfrr/AudioIO.jl/tree/26fd1fdf232fbe8a0115203f8c253c8cff7a0827/src/AudioIO.jl#L76\" target=\"_blank\">/Users/jiahao/.julia/v0.3/AudioIO/src/AudioIO.jl:76</a><li> play<i>{T<:Real}</i>(A::<b>note{T<:Real}</b>) at In[3]:7</ul>"
      ],
      "text/plain": [
       "# 9 methods for generic function \"play\":\n",
       "play(arr::Array{Float32,N},args...) at /Users/jiahao/.julia/v0.3/AudioIO/src/nodes.jl:226\n",
       "play{T<:FloatingPoint}(arr::Array{T<:FloatingPoint,N},args...) at /Users/jiahao/.julia/v0.3/AudioIO/src/nodes.jl:232\n",
       "play{T<:Signed}(arr::Array{T<:Signed,N},args...) at /Users/jiahao/.julia/v0.3/AudioIO/src/nodes.jl:241\n",
       "play{T<:Unsigned}(arr::Array{T<:Unsigned,N},args...) at /Users/jiahao/.julia/v0.3/AudioIO/src/nodes.jl:246\n",
       "play(filename::String,args...) at /Users/jiahao/.julia/v0.3/AudioIO/src/sndfile.jl:208\n",
       "play(file::AudioFile,args...) at /Users/jiahao/.julia/v0.3/AudioIO/src/sndfile.jl:213\n",
       "play(node::AudioNode{T<:AudioRenderer},stream::AudioStream) at /Users/jiahao/.julia/v0.3/AudioIO/src/AudioIO.jl:70\n",
       "play(node::AudioNode{T<:AudioRenderer}) at /Users/jiahao/.julia/v0.3/AudioIO/src/AudioIO.jl:76\n",
       "play{T<:Real}(A::note{T<:Real}) at In[3]:7"
      ]
     },
     "execution_count": 6,
     "metadata": {},
     "output_type": "execute_result"
    }
   ],
   "source": [
    "methods(play)"
   ]
  },
  {
   "cell_type": "markdown",
   "metadata": {},
   "source": [
    "[Modern musical convention](https://en.wikipedia.org/wiki/A440_(pitch_standard)) defines the musical note A to have pitch 440 Hertz.\n",
    "\n",
    "Here is concert A defined for a duration of 1 second."
   ]
  },
  {
   "cell_type": "code",
   "execution_count": 34,
   "metadata": {
    "collapsed": false
   },
   "outputs": [
    {
     "data": {
      "text/plain": [
       "note{Int64}(440 s⁻¹,1 s ,false)"
      ]
     },
     "execution_count": 34,
     "metadata": {},
     "output_type": "execute_result"
    }
   ],
   "source": [
    "#Concert A\n",
    "A = note(440Hertz, 1Second)"
   ]
  },
  {
   "cell_type": "markdown",
   "metadata": {},
   "source": [
    "And now we can hear what it sounds like."
   ]
  },
  {
   "cell_type": "code",
   "execution_count": 35,
   "metadata": {
    "collapsed": false
   },
   "outputs": [],
   "source": [
    "play(A)"
   ]
  },
  {
   "cell_type": "markdown",
   "metadata": {},
   "source": [
    "And we can change its timbre by changing the waveform used to generate it. (We used a pure sine wave by default.)"
   ]
  },
  {
   "cell_type": "code",
   "execution_count": 36,
   "metadata": {
    "collapsed": false
   },
   "outputs": [],
   "source": [
    "play(note(440Hertz, 1Second),\n",
    "    shape=t->0.4sin(t)+0.3sin(3t)+0.2cos(5t)+0.12sin(6t)+0.003sin(12t))"
   ]
  },
  {
   "cell_type": "markdown",
   "metadata": {},
   "source": [
    "To play other notes, we need the notion of a musical scale. Most Western music uses the [twelve-tone even-tempered scale](https://en.wikipedia.org/wiki/Equal_temperament). Two notes, where one note has twice the frequency of the other, span an octave. Divide the octave logarithmically into 12 even parts to get other notes."
   ]
  },
  {
   "cell_type": "code",
   "execution_count": 7,
   "metadata": {
    "collapsed": false
   },
   "outputs": [],
   "source": [
    "#The even-tempered scale\n",
    "B♭=note(440Hertz*2^(1//12), 1Second)\n",
    "play(B♭)\n",
    "B=note(440Hertz*2^(2//12), 1Second)\n",
    "play(B)\n",
    "C=note(440Hertz*2^(3//12), 1Second)\n",
    "play(C)"
   ]
  },
  {
   "cell_type": "markdown",
   "metadata": {},
   "source": [
    "If we leave out some of the notes, choosing only 8, we get a scale that fits an octave."
   ]
  },
  {
   "cell_type": "code",
   "execution_count": 8,
   "metadata": {
    "collapsed": false
   },
   "outputs": [],
   "source": [
    "#C Major scale\n",
    "for s in [-9, -7, -5, -4, -2, 0, 2, 3] #do re mi fa so la ti do\n",
    "    play(note(440Hertz*2^(s//12), 0.5Second))\n",
    "end"
   ]
  },
  {
   "cell_type": "markdown",
   "metadata": {},
   "source": [
    "Putting together pitch and duration gives us the ability to play simple tunes."
   ]
  },
  {
   "cell_type": "code",
   "execution_count": 9,
   "metadata": {
    "collapsed": false
   },
   "outputs": [],
   "source": [
    "#Doe, a deer, a female deer\n",
    "for (s, t) in [(1,3), (2,1), (3,3), (1,1), (3,2), (1,2), (3,4)]\n",
    "    play(note(440Hertz*2^((2s-11)//12), t*0.2Second))\n",
    "end"
   ]
  },
  {
   "cell_type": "markdown",
   "metadata": {},
   "source": [
    "# Playing music\n",
    "\n",
    "Songs often come with lyrics. We can put the notes together with lyrics to define a voice line, and then define how to play the entire voice line."
   ]
  },
  {
   "cell_type": "code",
   "execution_count": 10,
   "metadata": {
    "collapsed": false
   },
   "outputs": [],
   "source": [
    "immutable Voice{S<:Real}\n",
    "    wf :: Vector{S} #Waveform\n",
    "    lyrics :: Vector\n",
    "end"
   ]
  },
  {
   "cell_type": "code",
   "execution_count": 23,
   "metadata": {
    "collapsed": false
   },
   "outputs": [
    {
     "data": {
      "text/plain": [
       "play (generic function with 11 methods)"
      ]
     },
     "execution_count": 23,
     "metadata": {},
     "output_type": "execute_result"
    }
   ],
   "source": [
    "function play(v::Voice, samplingfreq=44100Hertz)\n",
    "    totalduration=length(v.wf)/samplingfreq\n",
    "    play(v.wf)\n",
    "    lyrics_start=time_ns()\n",
    "    for (syllable, duration) in v.lyrics\n",
    "        syllable_start=time_ns()\n",
    "        \n",
    "        #Print syllable, if there is something to print\n",
    "        #Special case syllables ending in hyphens - they\n",
    "        #represent continuations onto the next syllable.\n",
    "        #Don't print them.\n",
    "        if length(syllable)≥1\n",
    "            if syllable[end]=='-'\n",
    "                print(strip(syllable[1:end-1]))\n",
    "            else\n",
    "                print(strip(syllable), \" \")\n",
    "            end\n",
    "        end\n",
    "        \n",
    "        #Pause for the length of syllable\n",
    "        sleep(max(0Second, duration-(time_ns()-syllable_start)*1e-9Second))\n",
    "    end\n",
    "    \n",
    "    #Wait for entire waveform to finish playing, if it hasn't already\n",
    "    sleep(max(0Second, totalduration-time_ns()*1e-9Second))\n",
    "end"
   ]
  },
  {
   "cell_type": "markdown",
   "metadata": {},
   "source": [
    "We'll also teach Julia how to read music. For convenience, here's a parser for a small subset of [the notation used by Lilypond](http://www.lilypond.org)."
   ]
  },
  {
   "cell_type": "code",
   "execution_count": 12,
   "metadata": {
    "collapsed": false
   },
   "outputs": [
    {
     "data": {
      "text/plain": [
       "parsetoken (generic function with 2 methods)"
      ]
     },
     "execution_count": 12,
     "metadata": {},
     "output_type": "execute_result"
    }
   ],
   "source": [
    "#Let's play some music written in Lilypond notation\n",
    "function parsevoice(melody::String; tempo=132, beatunit=4, lyrics=nothing, octave=3)\n",
    "    lyrics_syllables = lyrics==nothing? nothing : split(lyrics)\n",
    "\n",
    "    note_idx = 1\n",
    "    oldduration = 4\n",
    "    Lyrics = Any[]\n",
    "    Notes = Any[]\n",
    "    for line in split(melody, '\\n')\n",
    "        percent_idx = findfirst(line, '%') #Trim comment\n",
    "        percent_idx == 0 || (line = line[1:percent_idx-1])\n",
    "        for token in split(line)\n",
    "            pitch, duration, sustained, dotted=parsetoken(token, 440*2.0^(octave-4))\n",
    "            duration==nothing && (duration = oldduration)\n",
    "            oldduration = duration\n",
    "            for i=1:dotted\n",
    "                duration /= (1. + .5^i)\n",
    "            end\n",
    "            timeduration = (beatunit/duration)*(60/tempo)*Second\n",
    "            if lyrics_syllables!=nothing && 1<=note_idx<=length(lyrics_syllables) #Print the lyrics, omitting hyphens\n",
    "                push!(Lyrics, (lyrics_syllables[note_idx], timeduration))\n",
    "            else\n",
    "                push!(Lyrics, (\"\", timeduration))\n",
    "            end\n",
    "            push!(Notes, note(pitch*Hertz, timeduration, sustained))\n",
    "            note_idx += 1\n",
    "        end\n",
    "        lyrics_syllables!=nothing && 1<=note_idx<=length(lyrics_syllables) && push!(Lyrics, (\"\\n\", 0Second))\n",
    "    end\n",
    "    Voice([map(waveform, Notes)...], Lyrics)\n",
    "end\n",
    "\n",
    "function parsetoken(token::String, Atuning::Real=220)\n",
    "    state = :findpitch\n",
    "    pitch = 0.0\n",
    "    sustain = false\n",
    "    dotted = 0\n",
    "    lengthbuf = Char[]\n",
    "    for char in token\n",
    "        if state == :findpitch\n",
    "            scale_idx = findfirst('a':'g', char) + findfirst('A':'G', char)\n",
    "            if scale_idx!=0\n",
    "                const halfsteps = [12, 14, 3, 5, 7, 8, 10]\n",
    "                pitch = Atuning*2^(halfsteps[scale_idx]/12)\n",
    "                state = :findlength\n",
    "            elseif char=='r'\n",
    "                pitch, state = 0, :findlength\n",
    "            else\n",
    "                error(\"unknown pitch: $char\")\n",
    "            end\n",
    "        elseif state == :findlength\n",
    "            if     char == '#' ; pitch *= 2^(1/12) #sharp\n",
    "            elseif char == 'b' ; pitch /= 2^(1/12) #flat\n",
    "            elseif char == '\\''; pitch *= 2        #higher octave\n",
    "            elseif char == ',' ; pitch /= 2        #lower octave\n",
    "            elseif char == '.' ; dotted += 1       #dotted note\n",
    "            elseif char == '~' ; sustain = true    #tied note\n",
    "            else\n",
    "                push!(lengthbuf, char)\n",
    "                #Check for \"is\" and \"es\" suffixes for sharps and flats\n",
    "                if length(lengthbuf) >= 2\n",
    "                    if lengthbuf[end-1:end] == \"is\"\n",
    "                        pitch *= 2^(1/12)\n",
    "                        lengthbuf = lengthbuf[1:end-2]\n",
    "                    elseif lengthbuf[end-1:end] == \"es\"\n",
    "                        pitch /= 2^(1/12)\n",
    "                        lengthbuf = lengthbuf[1:end-2]\n",
    "                    end\n",
    "                end\n",
    "            end\n",
    "        end\n",
    "    end\n",
    "    #finalize length\n",
    "    lengthstr = convert(String, lengthbuf)\n",
    "    duration = isempty(lengthstr) ? nothing : parse(Int, lengthstr)\n",
    "    return (pitch, duration, sustain, dotted)\n",
    "end"
   ]
  },
  {
   "cell_type": "markdown",
   "metadata": {},
   "source": [
    "Here's what \"Doe, a deer\" looks like in Lilypond notation."
   ]
  },
  {
   "cell_type": "code",
   "execution_count": 37,
   "metadata": {
    "collapsed": false
   },
   "outputs": [
    {
     "name": "stdout",
     "output_type": "stream",
     "text": [
      "Doe, a deer, a female deer "
     ]
    }
   ],
   "source": [
    "play(parsevoice(\"c. d8 e4. c8 e4 c e2\", lyrics=\"Doe, a deer, a fe- male deer\"))"
   ]
  },
  {
   "cell_type": "markdown",
   "metadata": {},
   "source": [
    "Now let's play a little Beethoven."
   ]
  },
  {
   "cell_type": "code",
   "execution_count": 25,
   "metadata": {
    "collapsed": false
   },
   "outputs": [],
   "source": [
    "play(parsevoice(\"f# f# g a a g f# e d d e f# f#~ f#8 e e2\"))"
   ]
  },
  {
   "cell_type": "code",
   "execution_count": 26,
   "metadata": {
    "collapsed": false
   },
   "outputs": [
    {
     "name": "stdout",
     "output_type": "stream",
     "text": [
      "Freude, schöner Götterfunken, Tochter aus Elisium!  Wir betreten feuertrunken, Himmlische, dein Heiligthum!  Deine Zauber bin den wieder, was die Mode streng getheilt,  alle menschen werden Brüder wo dein sanfter Flügel weilt. "
     ]
    }
   ],
   "source": [
    "solo=parsevoice(\"\"\"\n",
    "f# f# g a a g f# e d d e f# f#~ f#8 e e2\n",
    "f#4 f# g a a g f# e d d e f# e~ e8 d d2\n",
    "e4 e f# d e f#8~ g8 f#4 d e f#8~ g f#4 e d e a,\n",
    "f#2 f#4 g a a g f# e d d e f# e~ e8 d8 d2\"\"\",\n",
    "lyrics=\"\"\"\n",
    "Freu- de, schö- ner Göt- ter- fun- ken, Toch- ter aus E- li- - si- um!\n",
    "Wir be- tre- ten feu- er- trun- ken, Himm- li- sche, dein Hei- - lig- thum!\n",
    "Dei- ne Zau- ber bin den - wie- der, was die - Mo- de streng ge- theilt,\n",
    "al- le mensch- en wer- den Brü- der wo dein sanf- ter Flü- - gel weilt.\n",
    "\"\"\")\n",
    "play(solo)"
   ]
  },
  {
   "cell_type": "markdown",
   "metadata": {},
   "source": [
    "And now in four-part harmony."
   ]
  },
  {
   "cell_type": "code",
   "execution_count": 27,
   "metadata": {
    "collapsed": false
   },
   "outputs": [
    {
     "name": "stdout",
     "output_type": "stream",
     "text": [
      "Freude, schöner Götterfunken, Tochter aus Elisium! "
     ]
    },
    {
     "data": {
      "text/plain": [
       "Task (done) @0x00007f9fc3d96f20"
      ]
     },
     "execution_count": 27,
     "metadata": {},
     "output_type": "execute_result"
    }
   ],
   "source": [
    "@sync begin\n",
    "    @async soprano = play(parsevoice(\"\"\"\n",
    "f'#. f'#. g'. a'. a'. g'. f'#. e'~ e'8 d.'4 d.' e.' f#'. f#'.~ f#' e'8 e'4~ e'2\n",
    "\"\"\", lyrics=\"Freu- de, schö- ner Göt- ter- fun- ken, Toch- ter aus E- li- - si- um!\"\n",
    "))\n",
    "\n",
    "    @async alto = play(parsevoice(\"\"\"\n",
    "a. a. a. a.  a.  a. a. a~ g8 f#.4 a.  a.  a. a.~ a a8 a4~ a2\n",
    "\"\"\"))\n",
    "\n",
    "    @async tenor = play(parsevoice(\"\"\"\n",
    "d. d. e. f#. f#. e. d. d~ e8 f#.4 f#. a,. d. d.~ d c#8 c#4 c#2\n",
    "\"\"\"))\n",
    "    @async bass = play(parsevoice(\"\"\"\n",
    "d. d. d. d. a,. a,. a,. b,~ c8 d. a., a., a., a., a, a8, a,4 a,2\n",
    "\"\"\"))\n",
    "\n",
    "end"
   ]
  },
  {
   "cell_type": "code",
   "execution_count": 28,
   "metadata": {
    "collapsed": false
   },
   "outputs": [
    {
     "name": "stdout",
     "output_type": "stream",
     "text": [
      "Wir betreten feuertrunken, Himmlische, dein Heiligthum! "
     ]
    },
    {
     "data": {
      "text/plain": [
       "Task (done) @0x00007f9fc4930aa0"
      ]
     },
     "execution_count": 28,
     "metadata": {},
     "output_type": "execute_result"
    }
   ],
   "source": [
    "@sync begin \n",
    "    soprano = @async play(parsevoice(\"\"\"\n",
    "    f'#.4 f'#. g'. a'. a'. g'. f'#. e'. d'. d'. e'. f'#. e'.~ e' d'8 d'4~ d'2\n",
    "    \"\"\", lyrics=\"Wir be- tre- ten feu- er- trun- ken, Himm- li- sche, dein Hei- - lig- thum!\"))\n",
    "\n",
    "    alto = @async play(parsevoice(\"\"\"\n",
    "    a.4 a. b. c'. c'. b. a. g. f#. f#. g. f#. g.~ g4 f#8 f#~ f#2 \n",
    "    \"\"\"))\n",
    "\n",
    "    tenor = @async play(parsevoice(\"\"\"\n",
    "    d.4 d. d. d. d. d. d. d. d. d. c#. d. c#.~ c# d8 d d2  \n",
    "    \"\"\"))\n",
    "    bass = @async play(parsevoice(\"\"\"\n",
    "    d.4 d. d. d. a,. a,. a,. a., a., a., a., a., a.,~ a, a,8 d, d,2\n",
    "    \"\"\"))\n",
    "end"
   ]
  },
  {
   "cell_type": "markdown",
   "metadata": {},
   "source": [
    "# Opening of _Dies Irae_\n",
    "## Verdi, Requiem"
   ]
  },
  {
   "cell_type": "code",
   "execution_count": 29,
   "metadata": {
    "collapsed": false
   },
   "outputs": [
    {
     "data": {
      "text/plain": [
       "Task (done) @0x00007f9fc45d0660"
      ]
     },
     "execution_count": 29,
     "metadata": {},
     "output_type": "execute_result"
    }
   ],
   "source": [
    "@sync begin\n",
    "soprano1 = @async play(parsevoice(\"\"\"\n",
    "r2 r1\n",
    "g1~ g~ g~ g~\n",
    "\"\"\", octave=5))\n",
    "soprano2 = @async play(parsevoice(\"\"\"\n",
    "r2 r1\n",
    "g2~ f#4 f e~ eb~ d~ c~ d6~ c~ bb,~ c d eb d c bb, c4.. d16 d8\n",
    "\"\"\", octave=5))\n",
    "alto1 = @async play(parsevoice(\"\"\"\n",
    "r2 r1\n",
    "g1~ g~ g~ g~\n",
    "\"\"\"))\n",
    "alto2 = @async play(parsevoice(\"\"\"\n",
    "r2 r1\n",
    "g2~ f#4 f e eb d c d6 c bb, c d eb d c bb, c4.. d16 d8\n",
    "\"\"\"))\n",
    "tenor1 = @async play(parsevoice(\"\"\"\n",
    "eb.. eb16 e4.. e16 f4 f#\n",
    "g1~ g~ g~ g~\n",
    "\"\"\"))\n",
    "tenor2 = @async play(parsevoice(\"\"\"\n",
    "eb.. eb16 e4.. e16 f4 f#\n",
    "g2~ f#4 f e~ eb~ d~ c d6~ c bb, c d eb d c bb, c4.. d16 d8\n",
    "    \"\"\"\n",
    "))\n",
    "bass = @async play(parsevoice(\"\"\"\n",
    "eb.. eb16 e4.. e16 f4 f#  \n",
    "g1~ g~ g~ g~\n",
    "\"\"\", octave=3))\n",
    "end"
   ]
  },
  {
   "cell_type": "markdown",
   "metadata": {},
   "source": [
    "# _Jesu, meine Freude_\n",
    "## J. S. Bach, BWV 227, Nr. 1"
   ]
  },
  {
   "cell_type": "code",
   "execution_count": 30,
   "metadata": {
    "collapsed": false
   },
   "outputs": [
    {
     "data": {
      "text/plain": [
       "Task (done) @0x00007f9fc4c67780"
      ]
     },
     "execution_count": 30,
     "metadata": {},
     "output_type": "execute_result"
    }
   ],
   "source": [
    "@sync begin\n",
    "\n",
    "soprano = @async play(parsevoice(\"\"\"\n",
    "b b a g f#2 e2.\n",
    "b4 c#' d' b e'2 d#'2.\n",
    "e'8 f#' g'4 f#.' f#8' e1.'\n",
    "b4 b a g f#2 e.\n",
    "b4 c#' d' b e'2 d#'2.\n",
    "e'8 f#' g'4 f#.' f#8' e1.'\n",
    "b4 b c' b a a8 g2.\n",
    "b4 c#' d' b e' d'8~ c#' c#'2 b2.\n",
    "b4 b a g8~ f# f#2 e1.\n",
    "\"\"\", octave=3))\n",
    "\n",
    "alto = @async play(parsevoice(\"\"\"\n",
    "g f# e8~ d# e4 e~ d# b2,.\n",
    "g8~ f# e4 d d g8~ a~ b4 b2.\n",
    "g8~ a b4 b. a8 g1.\n",
    "g4 f# e8~ d# e4 e~ d# b2,.\n",
    "g8~ f# e4 d d g8~ a~ b4 b2.\n",
    "g8~ a~ b4 b. a8 g1.\n",
    "g4 g a g g f# d2.\n",
    "g4 g a g8~ a b4 b b~ a#~ f#2.\n",
    "g4 f# e e e~ d# b,1.\n",
    "\"\"\", octave=3))\n",
    "\n",
    "tenor = @async play(parsevoice(\"\"\"\n",
    "e' b c'8~ f# g4 c'~ b8~ a g2.\n",
    "e'8~ d' c#'~ b a4 g8~ a b4~ g' f#2'.\n",
    "e'4 e' e' d#' b1.\n",
    "e'4 b c'8~ f# g4 c'4~ b8~ a g2.\n",
    "e'8~ d' c#'~ b a4 g8~ a b4~ g' f#2'.\n",
    "e'4 e' e' d#' b1.\n",
    "e'4 d' d' d' e' d'8~ c' b2.\n",
    "d'4 e' d' d' g' f#' g'~ f#'8~ e' d#2'.\n",
    "e'4 f#'8~ g' a'~ a b4 c'~ b8~ a g#1.\n",
    "\"\"\", octave=2))\n",
    "\n",
    "bass = @async play(parsevoice(\"\"\"\n",
    "e d c. b,8 a4,~ b, e2.\n",
    "e4 a8~ g f#4 g8~ f# e~ f#~ g~ a~ b2~.\n",
    "c4' b8~ a b4 b, e1.\n",
    "e4 d c. b,8 a,4~ b, e2.\n",
    "e4 a8~ g f#4 g8~ f# e~ f#~ g~ a~ b2~.\n",
    "c4' b8~ a b4 b, e1.\n",
    "e8~ f# g4 f# g c d g,2.\n",
    "g4 f#8~ e f#4 g8~ f# e4 b, e4~ f# b,2.\n",
    "e4 d c b, a,~ b, e1.\n",
    "\"\"\", octave=2))   \n",
    "end"
   ]
  },
  {
   "cell_type": "markdown",
   "metadata": {},
   "source": [
    "# A popular song from not too long ago"
   ]
  },
  {
   "cell_type": "code",
   "execution_count": 31,
   "metadata": {
    "collapsed": false
   },
   "outputs": [],
   "source": [
    "play(parsevoice(\"\"\"\n",
    "c''8 b' g'4 c''8 b' g'4 g'8 f' e' f'4 e'8 d' e'4 g' g'8~ g'2\n",
    "c4 b,8 g, c c b, g, r\n",
    "c''8 b' g'4  c''8 b' g'4 g'8 f' e' f'4 e'8 d' e'4 g' g'8~ g'2\n",
    "c4 b,8 g, c c b, g, r\n",
    "a4, a, e8 e f e r8 c c a, c4 c r\n",
    "\"\"\"))"
   ]
  },
  {
   "cell_type": "markdown",
   "metadata": {},
   "source": [
    "# Version data"
   ]
  },
  {
   "cell_type": "code",
   "execution_count": 21,
   "metadata": {
    "collapsed": false
   },
   "outputs": [
    {
     "name": "stdout",
     "output_type": "stream",
     "text": [
      "Julia Version 0.3.8-pre+5\n",
      "Commit cfa638f (2015-04-15 05:30 UTC)\n",
      "Platform Info:\n",
      "  System: Darwin (x86_64-apple-darwin14.3.0)\n",
      "  CPU: Intel(R) Core(TM) i5-4258U CPU @ 2.40GHz\n",
      "  WORD_SIZE: 64\n",
      "  BLAS: libopenblas (USE64BITINT DYNAMIC_ARCH NO_AFFINITY Haswell)\n",
      "  LAPACK: libopenblas\n",
      "  LIBM: libopenlibm\n",
      "  LLVM: libLLVM-3.3\n"
     ]
    }
   ],
   "source": [
    "versioninfo()"
   ]
  },
  {
   "cell_type": "code",
   "execution_count": 22,
   "metadata": {
    "collapsed": false
   },
   "outputs": [
    {
     "name": "stdout",
     "output_type": "stream",
     "text": [
      "479 required packages:\n",
      " - ASCIIPlots                    0.0.3\n",
      " - AWS                           0.1.8\n",
      " - AffineTransforms              0.0.5\n",
      " - AnsiColor                     0.0.2\n",
      " - AppleAccelerate               0.1.0\n",
      " - ApproxFun                     0.0.5\n",
      " - Arduino                       0.1.2\n",
      " - ArgParse                      0.2.10\n",
      " - ArrayViews                    0.4.10\n",
      " - Arrowhead                     0.0.1+             master\n",
      " - AudioIO                       0.1.0+             master\n",
      " - Autoreload                    0.2.0\n",
      " - AverageShiftedHistograms      0.1.0\n",
      " - BDF                           0.0.5\n",
      " - BEncode                       0.1.1\n",
      " - BSplines                      0.0.3\n",
      " - BackpropNeuralNet             0.0.3\n",
      " - BayesNets                     0.1.0\n",
      " - Benchmark                     0.1.0\n",
      " - BenchmarkLite                 0.1.2\n",
      " - BinDeps                       0.3.9\n",
      " - BioSeq                        0.3.0\n",
      " - Biryani                       0.2.0\n",
      " - Blink                         0.1.4\n",
      " - Blocks                        0.0.4\n",
      " - BloomFilters                  0.1.1\n",
      " - Blosc                         0.1.2\n",
      " - BlossomV                      0.0.1\n",
      " - Bokeh                         0.1.0\n",
      " - Boltzmann                     0.2.0\n",
      " - Bootstrap                     0.1.1\n",
      " - BoundingBoxes                 0.1.0\n",
      " - Brownian                      0.0.1\n",
      " - CLBLAS                        0.1.0\n",
      " - CLFFT                         0.1.0\n",
      " - CPLEX                         0.0.12\n",
      " - CPUTime                       0.0.2\n",
      " - CRC                           1.0.0\n",
      " - CRC32                         0.0.2\n",
      " - CRF                           0.1.1\n",
      " - CUBLAS                        0.0.1\n",
      " - CUDA                          0.1.0\n",
      " - CUDArt                        0.1.0\n",
      " - CUFFT                         0.0.2\n",
      " - Cairo                         0.2.26\n",
      " - Calculus                      0.1.6\n",
      " - Calendar                      0.4.2\n",
      " - Cartesian                     0.3.0\n",
      " - Catalan                       0.0.3\n",
      " - CauseMap                      0.0.3\n",
      " - Cbc                           0.1.6\n",
      " - CellularAutomata              0.1.2\n",
      " - ChainedVectors                0.0.0\n",
      " - ChaosCommunications           0.0.1\n",
      " - ChemicalKinetics              0.1.0\n",
      " - Church                        0.0.1\n",
      " - Clang                         0.0.5\n",
      " - Cliffords                     0.2.1\n",
      " - Clp                           0.0.9\n",
      " - ClusterManagers               0.0.2\n",
      " - Clustering                    0.3.3\n",
      " - Codecs                        0.1.3\n",
      " - CoinOptServices               0.0.4\n",
      " - Color                         0.4.4              master\n",
      " - ColorBrewer                   0.1.1\n",
      " - Combinatorics                 0.1.2\n",
      " - CommonCrawl                   0.0.0\n",
      " - Compat                        0.3.7+             master\n",
      " - CompilerOptions               0.1.0\n",
      " - Compose                       0.3.11+            master\n",
      " - CompressedSensing             0.0.2\n",
      " - ConfParser                    0.0.5\n",
      " - ConfidenceWeighted            0.0.2\n",
      " - ContinuedFractions            0.0.0\n",
      " - Contour                       0.0.6\n",
      " - Convex                        0.0.4\n",
      " - CoreNLP                       0.1.0\n",
      " - Cosmology                     0.1.3\n",
      " - CovarianceMatrices            0.0.2\n",
      " - Coverage                      0.0.8\n",
      " - Cpp                           0.1.0\n",
      " - CrossDecomposition            0.0.1\n",
      " - Crypto                        0.0.1\n",
      " - Cubature                      1.0.5\n",
      " - Curl                          0.0.3\n",
      " - CurveFit                      0.0.1\n",
      " - DASSL                         0.0.4\n",
      " - DICOM                         0.0.1\n",
      " - DSP                           0.0.7\n",
      " - DWARF                         0.0.0\n",
      " - DataArrays                    0.2.11             46b24ffd (dirty)\n",
      " - DataFrames                    0.6.2\n",
      " - DataFramesMeta                0.0.1\n",
      " - DataStructures                0.3.6\n",
      " - Dates                         0.3.2\n",
      " - Datetime                      0.1.7\n",
      " - Debug                         0.1.2\n",
      " - DecisionTree                  0.3.6\n",
      " - DeclarativePackages           0.0.7\n",
      " - DevIL                         0.2.2\n",
      " - Devectorize                   0.4.0\n",
      " - DictFiles                     0.0.1\n",
      " - DictUtils                     0.0.2\n",
      " - Dierckx                       0.1.4\n",
      " - DimensionalityReduction       0.1.1\n",
      " - DirichletProcessMixtures      0.0.1\n",
      " - DiscreteFactor                0.0.0\n",
      " - Distance                      0.5.1\n",
      " - Distances                     0.2.0\n",
      " - Distributions                 0.6.7\n",
      " - Diversity                     0.2.3\n",
      " - DocOpt                        0.0.2\n",
      " - Docile                        0.4.8\n",
      " - Docker                        0.0.0\n",
      " - DoubleDouble                  0.1.0\n",
      " - DualNumbers                   0.1.3\n",
      " - DustExtinction                0.1.0\n",
      " - Dynare                        0.0.1\n",
      " - ECOS                          0.4.1\n",
      " - ELF                           0.0.0\n",
      " - ERFA                          0.1.0\n",
      " - EconDatasets                  0.0.2\n",
      " - ElasticFDA                    0.0.2\n",
      " - Elliptic                      0.1.1\n",
      " - Etcd                          0.0.1\n",
      " - Evolutionary                  0.1.0\n",
      " - Example                       0.4.1\n",
      " - ExcelReaders                  0.2.0\n",
      " - Expect                        0.1.0\n",
      " - ExpressionUtils               0.0.0\n",
      " - ExtremelyRandomizedTrees      0.0.4\n",
      " - FITSIO                        0.5.2\n",
      " - FLANN                         0.0.2\n",
      " - FactCheck                     0.2.6\n",
      " - FactorModels                  0.0.2\n",
      " - FastAnonymous                 0.0.1\n",
      " - FastArrayOps                  0.1.0\n",
      " - FastaIO                       0.1.3\n",
      " - FileFind                      0.0.0\n",
      " - FinancialMarkets              0.1.1\n",
      " - FiniteStateMachine            0.0.2\n",
      " - FixedPointNumbers             0.0.7\n",
      " - Fixtures                      0.0.2\n",
      " - Fontconfig                    0.0.1\n",
      " - Formatting                    0.1.2\n",
      " - ForwardDiff                   0.0.2\n",
      " - FoundationDB                  0.3.1\n",
      " - FreeType                      1.0.0\n",
      " - FunctionalCollections         0.1.1\n",
      " - FunctionalData                0.0.6\n",
      " - FunctionalUtils               0.0.0\n",
      " - GARCH                         0.1.2\n",
      " - GLAbstraction                 0.0.5\n",
      " - GLFW                          1.0.0-alpha.4\n",
      " - GLM                           0.4.5\n",
      " - GLMNet                        0.0.3\n",
      " - GLPK                          0.2.14\n",
      " - GLPKMathProgInterface         0.1.13\n",
      " - GLPlot                        0.0.5\n",
      " - GLText                        0.0.4\n",
      " - GLUT                          0.4.0\n",
      " - GLWindow                      0.0.5\n",
      " - GR                            0.7.0\n",
      " - GSL                           0.1.2\n",
      " - GZip                          0.2.14\n",
      " - Gadfly                        0.3.11+            master\n",
      " - Gaston                        0.0.0\n",
      " - GaussianMixtures              0.0.5\n",
      " - GeneticAlgorithms             0.0.3\n",
      " - GeoIP                         0.2.0\n",
      " - GeoJSON                       0.0.2\n",
      " - Geodesy                       0.0.1\n",
      " - GeometricalPredicates         0.0.4\n",
      " - GetC                          1.1.1\n",
      " - Gettext                       0.1.0\n",
      " - GitHub                        0.0.6+             master\n",
      " - Glob                          1.0.1\n",
      " - GnuTLS                        0.0.4\n",
      " - GoogleCharts                  0.0.7\n",
      " - GradientBoost                 0.0.1\n",
      " - GraphCentrality               0.1.0\n",
      " - GraphLayout                   0.2.0+             master (dirty)\n",
      " - GraphViz                      0.0.3\n",
      " - Graphs                        0.5.2\n",
      " - Grid                          0.3.7\n",
      " - Gtk                           0.8.0\n",
      " - Gumbo                         0.1.2\n",
      " - Gurobi                        0.1.26\n",
      " - HDF5                          0.4.13\n",
      " - HDFS                          0.1.0\n",
      " - HTTPClient                    0.1.4\n",
      " - Hadamard                      0.1.1\n",
      " - Helpme                        0.0.13\n",
      " - HexEdit                       0.0.3\n",
      " - Hexagons                      0.0.2\n",
      " - Hinton                        0.1.0\n",
      " - Homebrew                      0.1.14\n",
      " - HopfieldNets                  0.0.0\n",
      " - HttpCommon                    0.0.12\n",
      " - HttpParser                    0.0.10\n",
      " - HttpServer                    0.0.11\n",
      " - Humanize                      0.3.0\n",
      " - HyperDualNumbers              0.1.6\n",
      " - HyperLogLog                   0.0.0\n",
      " - HypothesisTests               0.2.9\n",
      " - ICU                           0.4.4\n",
      " - IDXParser                     0.1.0\n",
      " - IJulia                        0.2.1-             cjh/multijulia\n",
      " - IPPCore                       0.2.1\n",
      " - IPPDSP                        0.0.1\n",
      " - IProfile                      0.3.1\n",
      " - ImageView                     0.1.13\n",
      " - Images                        0.4.35\n",
      " - IndexedArrays                 0.0.1\n",
      " - InformedDifferentialEvolution 0.0.3\n",
      " - InplaceOps                    0.0.4\n",
      " - Instruments                   0.0.1\n",
      " - Interact                      0.1.6+             master\n",
      " - Isotonic                      0.0.1\n",
      " - Iterators                     0.1.7\n",
      " - Ito                           0.0.2\n",
      " - JFVM                          0.0.1\n",
      " - JLDArchives                   0.0.5\n",
      " - JPLEphemeris                  0.2.1\n",
      " - JSON                          0.4.2\n",
      " - Jacobi                        0.0.1\n",
      " - Jags                          0.2.0\n",
      " - JellyFish                     0.0.1\n",
      " - Jewel                         1.0.4\n",
      " - JointMoments                  0.2.5\n",
      " - JuMP                          0.8.0\n",
      " - JuMPChance                    0.1.1\n",
      " - JuMPeR                        0.1.0\n",
      " - JudyDicts                     0.0.0\n",
      " - JuliaParser                   0.6.2              master (dirty)\n",
      " - JulieTest                     0.0.2\n",
      " - KDTrees                       0.5.7\n",
      " - KLDivergence                  0.0.0\n",
      " - KNITRO                        0.0.5\n",
      " - KShiftsClustering             0.0.3\n",
      " - KernSmooth                    0.0.3\n",
      " - KernelEstimator               0.1.2\n",
      " - LARS                          0.0.2\n",
      " - LIBSVM                        0.0.1\n",
      " - LMDB                          0.0.2\n",
      " - LaTeX                         0.0.1\n",
      " - LambertW                      0.0.3              master (dirty)\n",
      " - Languages                     0.0.1\n",
      " - Lasso                         0.0.2\n",
      " - Lazy                          0.8.3\n",
      " - LazySequences                 0.1.0\n",
      " - LevelDB                       1.0.1\n",
      " - Lexicon                       0.1.4\n",
      " - LibBSON                       0.1.4\n",
      " - LibGit2                       0.3.8\n",
      " - LibTrading                    0.0.1\n",
      " - LightGraphs                   0.1.10\n",
      " - LinearLeastSquares            0.0.10\n",
      " - LinearMaps                    0.1.1\n",
      " - Lint                          0.1.67\n",
      " - LogParser                     0.1.0\n",
      " - Logging                       0.0.5\n",
      " - Lora                          0.3.1\n",
      " - Loss                          0.0.1\n",
      " - LowDimNearestNeighbors        0.0.1\n",
      " - LsqFit                        0.0.1\n",
      " - Lumira                        0.0.2\n",
      " - MATLAB                        0.1.2\n",
      " - MATLABCluster                 0.0.0\n",
      " - MCMC                          0.3.0\n",
      " - MDCT                          0.0.0\n",
      " - MDPs                          0.0.1\n",
      " - MFCC                          0.0.1\n",
      " - MNIST                         0.0.1\n",
      " - MPFI                          0.0.1\n",
      " - MPI                           0.2.5\n",
      " - MUMPS                         0.0.1\n",
      " - MachineLearning               0.0.3\n",
      " - ManifoldLearning              0.1.0\n",
      " - MapLight                      0.0.2\n",
      " - MarketData                    0.2.2\n",
      " - MarketTechnicals              0.3.4\n",
      " - Match                         0.1.3\n",
      " - Mathematica                   0.1.1\n",
      " - MatlabCompat                  0.0.1\n",
      " - MatpowerCases                 0.1.0\n",
      " - MatrixDepot                   0.2.5\n",
      " - MatrixMarket                  0.0.1\n",
      " - MeCab                         0.1.2\n",
      " - Meddle                        0.0.6\n",
      " - Memcache                      0.0.1\n",
      " - Meshes                        0.0.4\n",
      " - MessageUtils                  0.0.2\n",
      " - MetadataTools                 0.1.0\n",
      " - Metis                         0.0.6\n",
      " - MinimalPerfectHashes          0.1.2\n",
      " - MixedModels                   0.3.20\n",
      " - MixtureModels                 0.2.0\n",
      " - Mocha                         0.0.7\n",
      " - MolecularDynamics             0.1.3\n",
      " - Mongo                         0.1.3\n",
      " - Mongrel2                      0.0.0\n",
      " - Morsel                        0.0.5\n",
      " - Mosek                         0.1.4\n",
      " - MsgPack                       0.0.2\n",
      " - MultiNest                     0.2.0\n",
      " - Multirate                     0.0.2\n",
      " - Murmur3                       0.1.0\n",
      " - Mustache                      0.0.7\n",
      " - MutableStrings                0.0.0\n",
      " - NFFT                          0.0.2\n",
      " - NHST                          0.0.2\n",
      " - NIDAQ                         0.0.2\n",
      " - NIfTI                         0.0.4\n",
      " - NLopt                         0.2.0\n",
      " - NLreg                         0.1.1\n",
      " - NMEA                          0.0.3\n",
      " - NMF                           0.2.4\n",
      " - NPZ                           0.0.1\n",
      " - NaiveBayes                    0.1.0\n",
      " - Named                         0.0.0\n",
      " - NamedArrays                   0.4.3\n",
      " - Neovim                        0.0.1\n",
      " - NetCDF                        0.2.1\n",
      " - NumFormat                     0.0.4\n",
      " - OAuth                         0.0.2\n",
      " - OCCA                          0.0.1+             master\n",
      " - ODBC                          0.3.10\n",
      " - ODE                           0.1.2+             master\n",
      " - OIFITS                        0.1.0\n",
      " - OSC                           0.0.1\n",
      " - OpenSecrets                   0.0.1\n",
      " - OpenSlide                     0.0.1\n",
      " - OpenStreetMap                 0.7.0\n",
      " - OptimPack                     0.1.2\n",
      " - Orchestra                     0.0.5\n",
      " - PEGParser                     0.0.2\n",
      " - PGFPlots                      1.2.1\n",
      " - PGM                           0.0.1\n",
      " - PLX                           0.0.4\n",
      " - PValueAdjust                  2.0.0\n",
      " - Pandas                        0.2.0\n",
      " - Patchwork                     0.1.3+             master\n",
      " - PatternDispatch               0.0.2\n",
      " - PdbTool                       0.1.0\n",
      " - Pedigrees                     0.0.1\n",
      " - Permutations                  0.0.1\n",
      " - Phylogenetics                 0.0.2\n",
      " - PicoSAT                       0.1.0\n",
      " - Playground                    0.0.1\n",
      " - Plotly                        0.0.3+             master\n",
      " - PolarFact                     0.0.5\n",
      " - ProfileView                   0.0.10\n",
      " - ProjectTemplate               0.0.1\n",
      " - ProjectiveDictionaryPairLearning 0.3.2\n",
      " - ProtoBuf                      0.1.0\n",
      " - PyCall                        0.7.5\n",
      " - PyLexYacc                     0.0.2\n",
      " - PyPlot                        1.5.1\n",
      " - PySide                        0.0.2\n",
      " - Quandl                        0.4.1\n",
      " - QuantEcon                     0.1.0\n",
      " - QuickCheck                    0.0.0\n",
      " - QuickShiftClustering          0.0.5\n",
      " - RCall                         0.1.1\n",
      " - RDF                           0.0.1\n",
      " - RDatasets                     0.1.2\n",
      " - Rainflow                      0.0.1\n",
      " - RandomMatrices                0.1.0+             master\n",
      " - RdRand                        0.0.0\n",
      " - React                         0.1.6\n",
      " - Redis                         0.0.1\n",
      " - Reel                          0.1.0\n",
      " - RegERMs                       0.0.1\n",
      " - Requests                      0.0.8\n",
      " - Resampling                    0.0.0\n",
      " - ReverseDiffOverload           0.0.1\n",
      " - Rif                           0.0.12\n",
      " - RobotOS                       0.2.1\n",
      " - RobustShortestPath            0.0.1\n",
      " - RomanNumerals                 0.1.0\n",
      " - Roots                         0.1.12\n",
      " - SCS                           0.0.3\n",
      " - SDE                           0.3.1\n",
      " - SDL                           0.1.5\n",
      " - SIUnits                       0.0.2\n",
      " - SMTPClient                    0.0.0\n",
      " - SQLite                        0.2.0\n",
      " - SVM                           0.0.1\n",
      " - Sampling                      0.0.8\n",
      " - SaveREPL                      0.0.1\n",
      " - SemidefiniteProgramming       0.1.0\n",
      " - Shannon                       0.1.2\n",
      " - ShapeModels                   0.0.2\n",
      " - Shapefile                     0.0.2+             master\n",
      " - ShowSet                       0.0.1\n",
      " - Showoff                       0.0.4\n",
      " - Silo                          0.1.0\n",
      " - SimJulia                      0.2.1\n",
      " - Sims                          0.1.0\n",
      " - SliceSampler                  0.0.0\n",
      " - Smile                         0.1.1\n",
      " - SmoothingKernels              0.0.0\n",
      " - Snappy                        0.0.1\n",
      " - Sobol                         0.1.0\n",
      " - Sodium                        0.0.0\n",
      " - SortingAlgorithms             0.0.4\n",
      " - Soundex                       0.0.0\n",
      " - Sparklines                    0.1.0\n",
      " - SpecialMatrices               0.1.3\n",
      " - StackedNets                   0.0.1\n",
      " - Stan                          0.2.0\n",
      " - Stats                         0.1.0\n",
      " - StatsBase                     0.6.13\n",
      " - StatsdClient                  0.0.1\n",
      " - Stochy                        0.0.1\n",
      " - StrPack                       0.0.1\n",
      " - StreamStats                   0.0.2\n",
      " - SuffixArrays                  0.0.1\n",
      " - SunlightAPIs                  0.0.3\n",
      " - SymPy                         0.2.25\n",
      " - Synchrony                     0.0.1\n",
      " - TOML                          0.2.0\n",
      " - Taro                          0.1.4\n",
      " - Tau                           0.0.3\n",
      " - TaylorSeries                  0.0.2\n",
      " - TensorOperations              0.3.1\n",
      " - TermWin                       0.0.30\n",
      " - TerminalExtensions            0.0.2\n",
      " - TestImages                    0.0.7\n",
      " - TexExtensions                 0.0.2\n",
      " - TextAnalysis                  0.0.1\n",
      " - TextPlots                     0.3.0\n",
      " - ThermodynamicsTable           0.0.2\n",
      " - ThingSpeak                    0.0.2\n",
      " - Thrift                        0.0.1\n",
      " - TikzPictures                  0.2.1\n",
      " - TimeData                      0.5.1\n",
      " - TimeModels                    0.0.2\n",
      " - TimeSeries                    0.5.7\n",
      " - Timestamps                    0.0.2\n",
      " - Tk                            0.3.1\n",
      " - TopicModels                   0.0.1\n",
      " - TrafficAssignment             0.0.4\n",
      " - Twitter                       0.2.0\n",
      " - TypeCheck                     0.0.3\n",
      " - Typeclass                     0.0.1\n",
      " - UAParser                      0.3.0\n",
      " - URIParser                     0.0.5              master\n",
      " - URITemplate                   0.0.1\n",
      " - UTF16                         0.3.0\n",
      " - Units                         0.2.5\n",
      " - VML                           0.0.1\n",
      " - VStatistic                    1.0.0\n",
      " - ValidatedNumerics             0.0.3\n",
      " - ValueDispatch                 0.0.0\n",
      " - Vega                          0.0.0\n",
      " - VennEuler                     0.0.1\n",
      " - VideoIO                       0.0.13\n",
      " - VoronoiDelaunay               0.0.1\n",
      " - Voting                        0.0.1\n",
      " - WAV                           0.4.2\n",
      " - WCSLIB                        0.1.5\n",
      " - WORLD                         0.0.3\n",
      " - Watcher                       0.0.4\n",
      " - Wavelets                      0.3.0\n",
      " - Weave                         0.0.4\n",
      " - WebSockets                    0.0.6\n",
      " - WinRPM                        0.1.6\n",
      " - WoodburyMatrices              0.0.1\n",
      " - WorldBankData                 0.0.4\n",
      " - XClipboard                    0.0.3\n",
      " - XGBoost                       0.1.0\n",
      " - XSV                           0.0.2\n",
      " - YT                            0.2.0\n",
      " - Yelp                          0.3.0\n",
      " - ZChop                         0.0.2\n",
      " - ZVSimulator                   0.0.0\n",
      " - kNN                           0.0.0\n",
      "64 additional packages:\n",
      " - FunctionalDataUtils           0.0.3\n",
      " - Graphics                      0.1.0\n",
      " - IPNets                        0.1.3\n",
      " - ImmutableArrays               0.0.6\n",
      " - IniFile                       0.2.4\n",
      " - Ipopt                         0.1.13\n",
      " - IterativeSolvers              0.0.0-             master\n",
      " - JavaCall                      0.2.2\n",
      " - KernelDensity                 0.1.0\n",
      " - KrylovMethods                 0.0.0-             master (unregistered)\n",
      " - LNR                           0.0.1\n",
      " - LaTeXStrings                  0.1.2\n",
      " - LibCURL                       0.1.4\n",
      " - LibExpat                      0.0.6\n",
      " - LightXML                      0.1.11\n",
      " - LinearOperators               0.0.0-             master (unregistered)\n",
      " - Loess                         0.0.3\n",
      " - LowRankModels                 0.0.0-             master (unregistered)\n",
      " - Lumberjack                    0.0.3\n",
      " - MAT                           0.2.10\n",
      " - MLBase                        0.5.1\n",
      " - Mamba                         0.4.7\n",
      " - Markdown                      0.2.1\n",
      " - MathProgBase                  0.3.11\n",
      " - Memoize                       0.0.0\n",
      " - MetaTools                     0.0.1\n",
      " - ModernGL                      0.0.5\n",
      " - MultivariateStats             0.2.0\n",
      " - NLsolve                       0.3.0\n",
      " - NaNMath                       0.0.2\n",
      " - Nettle                        0.1.8\n",
      " - NumericExtensions             0.6.2\n",
      " - NumericFuns                   0.2.3\n",
      " - OpenCL                        0.3.2\n",
      " - OpenGL                        2.0.3\n",
      " - Optim                         0.4.0\n",
      " - Options                       0.2.3\n",
      " - PDMats                        0.3.1\n",
      " - Polynomial                    0.1.1\n",
      " - Polynomials                   0.0.3\n",
      " - PowerSeries                   0.1.12\n",
      " - ProgressMeter                 0.1.3\n",
      " - PublicSuffix                  0.0.1\n",
      " - Quaternions                   0.0.4\n",
      " - REPLCompletions               0.0.3\n",
      " - RNGTest                       0.0.3\n",
      " - Reactive                      0.1.10\n",
      " - Reexport                      0.0.2\n",
      " - Requires                      0.1.1\n",
      " - ReverseDiffSource             0.0.5\n",
      " - ReverseDiffSparse             0.2.6\n",
      " - RobustPCA                     0.0.0-             master (unregistered, dirty)\n",
      " - RunTests                      0.0.3\n",
      " - SHA                           0.0.4\n",
      " - Sundials                      0.1.2\n",
      " - Switch                        0.0.1\n",
      " - TextWrap                      0.1.3\n",
      " - TikzGraphs                    0.0.1\n",
      " - UUID                          0.0.2\n",
      " - Winston                       0.11.9\n",
      " - YAML                          0.1.8\n",
      " - ZMQ                           0.1.17\n",
      " - ZipFile                       0.2.3\n",
      " - Zlib                          0.1.8\n"
     ]
    }
   ],
   "source": [
    "Pkg.status()"
   ]
  }
 ],
 "metadata": {
  "kernelspec": {
   "display_name": "Julia 0.3",
   "language": "julia",
   "name": "julia 0.3"
  },
  "language_info": {
   "name": "julia",
   "version": "0.3.8"
  }
 },
 "nbformat": 4,
 "nbformat_minor": 0
}
